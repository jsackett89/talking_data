{
 "cells": [
  {
   "cell_type": "code",
   "execution_count": 2,
   "metadata": {
    "collapsed": false
   },
   "outputs": [],
   "source": [
    "import glob\n",
    "import os\n",
    "import pandas as pd\n",
    "\n",
    "%matplotlib inline\n",
    "import matplotlib\n",
    "import numpy as np\n",
    "import matplotlib.pyplot as plt\n",
    "\n",
    "from collections import Counter\n"
   ]
  },
  {
   "cell_type": "code",
   "execution_count": 3,
   "metadata": {
    "collapsed": false
   },
   "outputs": [
    {
     "name": "stdout",
     "output_type": "stream",
     "text": [
      "['data/app_events.csv', 'data/app_labels.csv', 'data/events.csv', 'data/gender_age_test.csv', 'data/gender_age_train.csv', 'data/label_categories.csv', 'data/phone_brand_device_model.csv', 'data/sample_submission.csv']\n",
      "['app_events', 'app_labels', 'events', 'gender_age_test', 'gender_age_train', 'label_categories', 'phone_brand_device_model', 'sample_submission']\n"
     ]
    },
    {
     "data": {
      "text/plain": [
       "dict_keys(['app_labels', 'label_categories', 'phone_brand_device_model', 'gender_age_test', 'gender_age_train', 'app_events', 'events', 'sample_submission'])"
      ]
     },
     "execution_count": 3,
     "metadata": {},
     "output_type": "execute_result"
    }
   ],
   "source": [
    "filePaths = [f for f in glob.glob(os.path.join('data', '*.csv'))]\n",
    "print(filePaths)\n",
    "# File names\n",
    "fileNames = [p.split('data/')[1].split('.csv')[0] for p in filePaths]\n",
    "print(fileNames)\n",
    "# Create tuples for dictionary comprehension\n",
    "fileKeyVal = zip(fileNames, filePaths)\n",
    "# Create dictionary of files\n",
    "fileDict = {name: pd.read_csv(file) for name, file in fileKeyVal}\n",
    "\n",
    "\n",
    "fileDict.keys()"
   ]
  },
  {
   "cell_type": "code",
   "execution_count": 4,
   "metadata": {
    "collapsed": false
   },
   "outputs": [
    {
     "name": "stdout",
     "output_type": "stream",
     "text": [
      "Index(['event_id', 'app_id', 'is_installed', 'is_active'], dtype='object')\n",
      "Index(['app_id', 'label_id'], dtype='object')\n",
      "Index(['event_id', 'device_id', 'timestamp', 'longitude', 'latitude'], dtype='object')\n",
      "Index(['device_id', 'gender', 'age', 'group'], dtype='object')\n",
      "(74645, 4)\n",
      "Index(['label_id', 'category'], dtype='object')\n",
      "Index(['device_id', 'phone_brand', 'device_model'], dtype='object')\n",
      "(187245, 3)\n",
      "Index(['app_id', 'label_id'], dtype='object')\n"
     ]
    }
   ],
   "source": [
    "app_events = fileDict.get(\"app_events\")\n",
    "print(app_events.columns)\n",
    "\n",
    "app_labels = fileDict.get(\"app_labels\")\n",
    "print(app_labels.columns)\n",
    "\n",
    "events = fileDict.get(\"events\")\n",
    "print(events.columns)\n",
    "\n",
    "ga_train = fileDict.get(\"gender_age_train\")\n",
    "print(ga_train.columns)\n",
    "print(ga_train.shape)\n",
    "#print(ga_train.describe(include='all'))\n",
    "\n",
    "label_categories = fileDict.get(\"label_categories\")\n",
    "print(label_categories.columns)\n",
    "\n",
    "pdbm = fileDict.get(\"phone_brand_device_model\")\n",
    "print(pdbm.columns)\n",
    "print(pdbm.shape)\n",
    "\n",
    "app_labels = fileDict.get(\"app_labels\")\n",
    "print(app_labels.columns)\n",
    "\n"
   ]
  },
  {
   "cell_type": "code",
   "execution_count": 5,
   "metadata": {
    "collapsed": false
   },
   "outputs": [
    {
     "data": {
      "text/plain": [
       "<matplotlib.axes._subplots.AxesSubplot at 0x106389630>"
      ]
     },
     "execution_count": 5,
     "metadata": {},
     "output_type": "execute_result"
    },
    {
     "data": {
      "image/png": "[encoded data removed]",
      "text/plain": [
       "<matplotlib.figure.Figure at 0x114ad4198>"
      ]
     },
     "metadata": {},
     "output_type": "display_data"
    }
   ],
   "source": [
    "#plt.hist(ga_train[\"age\"], bins=50, range=[0,100])\n",
    "#plt.xlabel('Age')\n",
    "#plt.ylabel('Count')\n",
    "#plt.show()\n",
    "\n",
    "\n",
    "# labels, values = zip(*Counter(ga_train[\"group\"]).items())\n",
    "# counts = pd.DataFrame({'labels' : labels, 'values' : values})\n",
    "# counts = counts.sort_values('labels')\n",
    "# indexes = np.arange(len(counts))\n",
    "# width = .5\n",
    "\n",
    "# plt.figure(figsize=(20,10))\n",
    "# plt.bar(indexes, counts['values'], width, color = ['b', 'g', 'y', 'k', 'r', 'orange', 'purple', 'pink', 'white', 'gray', 'yellow', 'brown'])\n",
    "# plt.xticks(indexes + width * 0.5, counts['labels'])\n",
    "# plt.xlabel('Gender/Age Group')\n",
    "# plt.ylabel('Count')\n",
    "# plt.show()\n",
    "ga_train.age.hist()"
   ]
  },
  {
   "cell_type": "code",
   "execution_count": 6,
   "metadata": {
    "collapsed": false
   },
   "outputs": [
    {
     "name": "stdout",
     "output_type": "stream",
     "text": [
      "Index(['device_id', 'gender', 'age', 'group', 'phone_brand', 'device_model'], dtype='object')\n",
      "(74839, 6)\n",
      "             device_id gender  age   group phone_brand device_model\n",
      "0 -8076087639492063270      M   35  M32-38          小米         MI 2\n",
      "1 -2897161552818060146      M   35  M32-38          小米         MI 2\n",
      "2 -8260683887967679142      M   35  M32-38          小米         MI 2\n",
      "3 -4938849341048082022      M   30  M29-31          小米       红米note\n",
      "4   245133531816851882      M   30  M29-31          小米         MI 3\n"
     ]
    }
   ],
   "source": [
    "ga_train_with_pdbm = pd.merge(ga_train, pdbm, on='device_id', how='left')\n",
    "print(ga_train_with_pdbm.columns)\n",
    "print(ga_train_with_pdbm.shape)\n",
    "print(ga_train_with_pdbm.head())"
   ]
  },
  {
   "cell_type": "code",
   "execution_count": 7,
   "metadata": {
    "collapsed": false
   },
   "outputs": [
    {
     "name": "stdout",
     "output_type": "stream",
     "text": [
      "Index(['device_id', 'gender', 'age', 'group', 'phone_brand', 'device_model',\n",
      "       'event_id', 'timestamp', 'longitude', 'latitude'],\n",
      "      dtype='object')\n",
      "(1271913, 10)\n",
      "          device_id           age      event_id     longitude      latitude\n",
      "count  1.271913e+06  1.271913e+06  1.220474e+06  1.220474e+06  1.220474e+06\n",
      "mean  -2.963497e+16  3.338748e+01  1.626750e+06  7.841065e+01  2.183423e+01\n",
      "std    5.320773e+18  9.755179e+00  9.396839e+05  5.381275e+01  1.564637e+01\n",
      "min   -9.223067e+18  1.000000e+00  1.000000e+00 -1.800000e+02 -3.380000e+01\n",
      "25%   -4.664097e+18  2.600000e+01           NaN           NaN           NaN\n",
      "50%   -1.229633e+17  3.100000e+01           NaN           NaN           NaN\n",
      "75%    4.631837e+18  3.900000e+01           NaN           NaN           NaN\n",
      "max    9.222849e+18  9.600000e+01  3.252948e+06  1.511800e+02  5.364000e+01\n"
     ]
    },
    {
     "name": "stderr",
     "output_type": "stream",
     "text": [
      "/Users/brad/anaconda/lib/python3.5/site-packages/numpy/lib/function_base.py:3823: RuntimeWarning: Invalid value encountered in percentile\n",
      "  RuntimeWarning)\n"
     ]
    }
   ],
   "source": [
    "ga_train_with_pdbm_and_events = pd.merge(ga_train_with_pdbm, events, on='device_id', how='left')\n",
    "print(ga_train_with_pdbm_and_events.columns)\n",
    "print(ga_train_with_pdbm_and_events.shape)\n",
    "print(ga_train_with_pdbm_and_events.describe())"
   ]
  },
  {
   "cell_type": "code",
   "execution_count": 8,
   "metadata": {
    "collapsed": false
   },
   "outputs": [
    {
     "name": "stdout",
     "output_type": "stream",
     "text": [
      "Index(['device_id', 'gender', 'age', 'group', 'phone_brand', 'device_model',\n",
      "       'event_id', 'timestamp', 'longitude', 'latitude', 'app_id',\n",
      "       'is_installed', 'is_active'],\n",
      "      dtype='object')\n",
      "(12987131, 13)\n"
     ]
    },
    {
     "name": "stderr",
     "output_type": "stream",
     "text": [
      "/Users/brad/anaconda/lib/python3.5/site-packages/numpy/lib/function_base.py:3823: RuntimeWarning: Invalid value encountered in percentile\n",
      "  RuntimeWarning)\n"
     ]
    },
    {
     "name": "stdout",
     "output_type": "stream",
     "text": [
      "           device_id    gender           age     group phone_brand  \\\n",
      "count   1.298713e+07  12987131  1.298713e+07  12987131    12987131   \n",
      "unique           NaN         2           NaN        12         120   \n",
      "top              NaN         M           NaN    M32-38          华为   \n",
      "freq             NaN   9515799           NaN   2447981     4115516   \n",
      "mean    1.020054e+17       NaN  3.337944e+01       NaN         NaN   \n",
      "std     5.294136e+18       NaN  9.435700e+00       NaN         NaN   \n",
      "min    -9.223067e+18       NaN  1.000000e+00       NaN         NaN   \n",
      "25%    -4.386679e+18       NaN  2.700000e+01       NaN         NaN   \n",
      "50%     8.918101e+16       NaN  3.100000e+01       NaN         NaN   \n",
      "75%     4.691463e+18       NaN  3.900000e+01       NaN         NaN   \n",
      "max     9.222849e+18       NaN  9.600000e+01       NaN         NaN   \n",
      "\n",
      "       device_model      event_id            timestamp     longitude  \\\n",
      "count      12987131  1.293569e+07             12935692  1.293569e+07   \n",
      "unique         1438           NaN               497663           NaN   \n",
      "top             荣耀6           NaN  2016-05-02 00:46:51           NaN   \n",
      "freq         793104           NaN                  636           NaN   \n",
      "mean            NaN  1.626328e+06                  NaN  4.841044e+01   \n",
      "std             NaN  9.398703e+05                  NaN  5.690868e+01   \n",
      "min             NaN  1.000000e+00                  NaN -1.800000e+02   \n",
      "25%             NaN           NaN                  NaN           NaN   \n",
      "50%             NaN           NaN                  NaN           NaN   \n",
      "75%             NaN           NaN                  NaN           NaN   \n",
      "max             NaN  3.252948e+06                  NaN  1.511800e+02   \n",
      "\n",
      "            latitude        app_id  is_installed     is_active  \n",
      "count   1.293569e+07  1.227345e+07    12273452.0  1.227345e+07  \n",
      "unique           NaN           NaN           NaN           NaN  \n",
      "top              NaN           NaN           NaN           NaN  \n",
      "freq             NaN           NaN           NaN           NaN  \n",
      "mean    1.335456e+01  1.193305e+18           1.0  3.913085e-01  \n",
      "std     1.607607e+01  5.364721e+18           0.0  4.880432e-01  \n",
      "min    -3.380000e+01 -9.221157e+18           1.0  0.000000e+00  \n",
      "25%              NaN           NaN           NaN           NaN  \n",
      "50%              NaN           NaN           NaN           NaN  \n",
      "75%              NaN           NaN           NaN           NaN  \n",
      "max     5.364000e+01  9.222488e+18           1.0  1.000000e+00  \n"
     ]
    }
   ],
   "source": [
    "ga_train_with_pdbm_and_events_and_app_events = pd.merge(ga_train_with_pdbm_and_events, app_events, on='event_id', how='left')\n",
    "print(ga_train_with_pdbm_and_events_and_app_events.columns)\n",
    "print(ga_train_with_pdbm_and_events_and_app_events.shape)\n",
    "print(ga_train_with_pdbm_and_events_and_app_events.describe(include='all'))"
   ]
  },
  {
   "cell_type": "code",
   "execution_count": 9,
   "metadata": {
    "collapsed": false,
    "scrolled": true
   },
   "outputs": [
    {
     "name": "stdout",
     "output_type": "stream",
     "text": [
      "Index(['device_id', 'gender', 'age', 'group', 'phone_brand', 'device_model',\n",
      "       'event_id', 'timestamp', 'longitude', 'latitude', 'app_id',\n",
      "       'is_installed', 'is_active', 'label_id'],\n",
      "      dtype='object')\n",
      "(13447651, 14)\n"
     ]
    },
    {
     "name": "stderr",
     "output_type": "stream",
     "text": [
      "/Users/brad/anaconda/lib/python3.5/site-packages/numpy/lib/function_base.py:3823: RuntimeWarning: Invalid value encountered in percentile\n",
      "  RuntimeWarning)\n"
     ]
    },
    {
     "name": "stdout",
     "output_type": "stream",
     "text": [
      "           device_id    gender           age     group phone_brand  \\\n",
      "count   1.344765e+07  13447651  1.344765e+07  13447651    13447651   \n",
      "unique           NaN         2           NaN        12         120   \n",
      "top              NaN         M           NaN    M32-38          华为   \n",
      "freq             NaN   9866315           NaN   2544607     4283903   \n",
      "mean    1.065641e+17       NaN  3.350085e+01       NaN         NaN   \n",
      "std     5.291652e+18       NaN  9.473287e+00       NaN         NaN   \n",
      "min    -9.223067e+18       NaN  1.000000e+00       NaN         NaN   \n",
      "25%    -4.355594e+18       NaN  2.700000e+01       NaN         NaN   \n",
      "50%     9.686680e+16       NaN  3.200000e+01       NaN         NaN   \n",
      "75%     4.699057e+18       NaN  3.900000e+01       NaN         NaN   \n",
      "max     9.222849e+18       NaN  9.600000e+01       NaN         NaN   \n",
      "\n",
      "       device_model      event_id            timestamp     longitude  \\\n",
      "count      13447651  1.339621e+07             13396212  1.339621e+07   \n",
      "unique         1438           NaN               497663           NaN   \n",
      "top             荣耀6           NaN  2016-05-02 00:46:51           NaN   \n",
      "freq         819676           NaN                  660           NaN   \n",
      "mean            NaN  1.626366e+06                  NaN  4.812278e+01   \n",
      "std             NaN  9.398948e+05                  NaN  5.686359e+01   \n",
      "min             NaN  1.000000e+00                  NaN -1.800000e+02   \n",
      "25%             NaN           NaN                  NaN           NaN   \n",
      "50%             NaN           NaN                  NaN           NaN   \n",
      "75%             NaN           NaN                  NaN           NaN   \n",
      "max             NaN  3.252948e+06                  NaN  1.511800e+02   \n",
      "\n",
      "            latitude        app_id  is_installed     is_active       label_id  \n",
      "count   1.339621e+07  1.273397e+07    12733972.0  1.273397e+07  537325.000000  \n",
      "unique           NaN           NaN           NaN           NaN            NaN  \n",
      "top              NaN           NaN           NaN           NaN            NaN  \n",
      "freq             NaN           NaN           NaN           NaN            NaN  \n",
      "mean    1.327309e+01  1.152861e+18           1.0  3.916393e-01     636.147762  \n",
      "std     1.605621e+01  5.272577e+18           0.0  4.881168e-01     251.553683  \n",
      "min    -3.380000e+01 -9.221157e+18           1.0  0.000000e+00       8.000000  \n",
      "25%              NaN           NaN           NaN           NaN            NaN  \n",
      "50%              NaN           NaN           NaN           NaN            NaN  \n",
      "75%              NaN           NaN           NaN           NaN            NaN  \n",
      "max     5.364000e+01  9.222488e+18           1.0  1.000000e+00    1016.000000  \n"
     ]
    }
   ],
   "source": [
    "ga_train_with_pdbm_and_events_and_app_events_and_labels = pd.merge(ga_train_with_pdbm_and_events_and_app_events, app_labels, on='app_id', how='left')\n",
    "print(ga_train_with_pdbm_and_events_and_app_events_and_labels.columns)\n",
    "print(ga_train_with_pdbm_and_events_and_app_events_and_labels.shape)\n",
    "print(ga_train_with_pdbm_and_events_and_app_events_and_labels.describe(include='all'))"
   ]
  },
  {
   "cell_type": "code",
   "execution_count": 10,
   "metadata": {
    "collapsed": false
   },
   "outputs": [
    {
     "name": "stdout",
     "output_type": "stream",
     "text": [
      "Index(['device_id', 'gender', 'age', 'group', 'phone_brand', 'device_model',\n",
      "       'event_id', 'timestamp', 'longitude', 'latitude', 'app_id',\n",
      "       'is_installed', 'is_active', 'label_id', 'category'],\n",
      "      dtype='object')\n",
      "(13447651, 15)\n"
     ]
    },
    {
     "name": "stderr",
     "output_type": "stream",
     "text": [
      "/Users/brad/anaconda/lib/python3.5/site-packages/numpy/lib/function_base.py:3823: RuntimeWarning: Invalid value encountered in percentile\n",
      "  RuntimeWarning)\n"
     ]
    },
    {
     "name": "stdout",
     "output_type": "stream",
     "text": [
      "           device_id    gender           age     group phone_brand  \\\n",
      "count   1.344765e+07  13447651  1.344765e+07  13447651    13447651   \n",
      "unique           NaN         2           NaN        12         120   \n",
      "top              NaN         M           NaN    M32-38          华为   \n",
      "freq             NaN   9866315           NaN   2544607     4283903   \n",
      "mean    1.065641e+17       NaN  3.350085e+01       NaN         NaN   \n",
      "std     5.291652e+18       NaN  9.473287e+00       NaN         NaN   \n",
      "min    -9.223067e+18       NaN  1.000000e+00       NaN         NaN   \n",
      "25%    -4.355594e+18       NaN  2.700000e+01       NaN         NaN   \n",
      "50%     9.686680e+16       NaN  3.200000e+01       NaN         NaN   \n",
      "75%     4.699057e+18       NaN  3.900000e+01       NaN         NaN   \n",
      "max     9.222849e+18       NaN  9.600000e+01       NaN         NaN   \n",
      "\n",
      "       device_model      event_id            timestamp     longitude  \\\n",
      "count      13447651  1.339621e+07             13396212  1.339621e+07   \n",
      "unique         1438           NaN               497663           NaN   \n",
      "top             荣耀6           NaN  2016-05-02 00:46:51           NaN   \n",
      "freq         819676           NaN                  660           NaN   \n",
      "mean            NaN  1.626366e+06                  NaN  4.812278e+01   \n",
      "std             NaN  9.398948e+05                  NaN  5.686359e+01   \n",
      "min             NaN  1.000000e+00                  NaN -1.800000e+02   \n",
      "25%             NaN           NaN                  NaN           NaN   \n",
      "50%             NaN           NaN                  NaN           NaN   \n",
      "75%             NaN           NaN                  NaN           NaN   \n",
      "max             NaN  3.252948e+06                  NaN  1.511800e+02   \n",
      "\n",
      "            latitude        app_id  is_installed     is_active       label_id  \\\n",
      "count   1.339621e+07  1.273397e+07    12733972.0  1.273397e+07  537325.000000   \n",
      "unique           NaN           NaN           NaN           NaN            NaN   \n",
      "top              NaN           NaN           NaN           NaN            NaN   \n",
      "freq             NaN           NaN           NaN           NaN            NaN   \n",
      "mean    1.327309e+01  1.152861e+18           1.0  3.916393e-01     636.147762   \n",
      "std     1.605621e+01  5.272577e+18           0.0  4.881168e-01     251.553683   \n",
      "min    -3.380000e+01 -9.221157e+18           1.0  0.000000e+00       8.000000   \n",
      "25%              NaN           NaN           NaN           NaN            NaN   \n",
      "50%              NaN           NaN           NaN           NaN            NaN   \n",
      "75%              NaN           NaN           NaN           NaN            NaN   \n",
      "max     5.364000e+01  9.222488e+18           1.0  1.000000e+00    1016.000000   \n",
      "\n",
      "            category  \n",
      "count         537325  \n",
      "unique           144  \n",
      "top     Industry tag  \n",
      "freq           44648  \n",
      "mean             NaN  \n",
      "std              NaN  \n",
      "min              NaN  \n",
      "25%              NaN  \n",
      "50%              NaN  \n",
      "75%              NaN  \n",
      "max              NaN  \n"
     ]
    }
   ],
   "source": [
    "data = pd.merge(ga_train_with_pdbm_and_events_and_app_events_and_labels, label_categories, on='label_id', how='left')\n",
    "print(data.columns)\n",
    "print(data.shape)\n",
    "print(data.describe(include='all'))"
   ]
  },
  {
   "cell_type": "code",
   "execution_count": null,
   "metadata": {
    "collapsed": false
   },
   "outputs": [],
   "source": [
    "\n"
   ]
  },
  {
   "cell_type": "code",
   "execution_count": null,
   "metadata": {
    "collapsed": false
   },
   "outputs": [],
   "source": [
    "\n"
   ]
  },
  {
   "cell_type": "code",
   "execution_count": null,
   "metadata": {
    "collapsed": true
   },
   "outputs": [],
   "source": []
  }
 ],
 "metadata": {
  "kernelspec": {
   "display_name": "Python 3",
   "language": "python",
   "name": "python3"
  },
  "language_info": {
   "codemirror_mode": {
    "name": "ipython",
    "version": 3
   },
   "file_extension": ".py",
   "mimetype": "text/x-python",
   "name": "python",
   "nbconvert_exporter": "python",
   "pygments_lexer": "ipython3",
   "version": "3.5.1"
  }
 },
 "nbformat": 4,
 "nbformat_minor": 0
}
