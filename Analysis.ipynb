{
 "cells": [
  {
   "cell_type": "code",
   "execution_count": 6,
   "metadata": {
    "collapsed": false
   },
   "outputs": [
    {
     "name": "stdout",
     "output_type": "stream",
     "text": [
      "<class 'pandas.core.frame.DataFrame'>\n",
      "RangeIndex: 2913042 entries, 0 to 2913041\n",
      "Data columns (total 16 columns):\n",
      "Unnamed: 0      int64\n",
      "device_id       int64\n",
      "gender          object\n",
      "age             int64\n",
      "group           object\n",
      "phone_brand     object\n",
      "device_model    object\n",
      "event_id        float64\n",
      "timestamp       object\n",
      "longitude       float64\n",
      "latitude        float64\n",
      "app_id          float64\n",
      "is_installed    float64\n",
      "is_active       float64\n",
      "label_id        float64\n",
      "category        object\n",
      "dtypes: float64(7), int64(3), object(6)\n",
      "memory usage: 355.6+ MB\n"
     ]
    }
   ],
   "source": [
    "import pandas as pd\n",
    "data = pd.read_csv('all_events_with_metadata.csv')\n",
    "data.info()"
   ]
  },
  {
   "cell_type": "code",
   "execution_count": 7,
   "metadata": {
    "collapsed": false
   },
   "outputs": [
    {
     "name": "stderr",
     "output_type": "stream",
     "text": [
      "/Users/brad/anaconda/lib/python3.5/site-packages/numpy/lib/function_base.py:3823: RuntimeWarning: Invalid value encountered in percentile\n",
      "  RuntimeWarning)\n"
     ]
    },
    {
     "name": "stdout",
     "output_type": "stream",
     "text": [
      "          Unnamed: 0     device_id   gender           age    group  \\\n",
      "count   2.913042e+06  2.913042e+06  2913042  2.913042e+06  2913042   \n",
      "unique           NaN           NaN        2           NaN       12   \n",
      "top              NaN           NaN        M           NaN     M39+   \n",
      "freq             NaN           NaN  2069488           NaN   659204   \n",
      "mean    1.456520e+06  9.517762e+16      NaN  3.509087e+01      NaN   \n",
      "std     8.409229e+05  5.370483e+18      NaN  1.053330e+01      NaN   \n",
      "min     0.000000e+00 -9.223067e+18      NaN  1.000000e+00      NaN   \n",
      "25%     7.282602e+05 -4.551768e+18      NaN  2.700000e+01      NaN   \n",
      "50%     1.456520e+06 -1.812348e+17      NaN  3.300000e+01      NaN   \n",
      "75%     2.184781e+06  4.936063e+18      NaN  4.100000e+01      NaN   \n",
      "max     2.913041e+06  9.221152e+18      NaN  9.600000e+01      NaN   \n",
      "\n",
      "       phone_brand device_model      event_id            timestamp  \\\n",
      "count      2913042      2913042  2.896762e+06              2896762   \n",
      "unique         101         1112           NaN               205458   \n",
      "top             华为          荣耀6           NaN  2016-05-01 21:27:12   \n",
      "freq       1058715       297431           NaN                  305   \n",
      "mean           NaN          NaN  1.627545e+06                  NaN   \n",
      "std            NaN          NaN  9.407644e+05                  NaN   \n",
      "min            NaN          NaN  3.000000e+00                  NaN   \n",
      "25%            NaN          NaN           NaN                  NaN   \n",
      "50%            NaN          NaN           NaN                  NaN   \n",
      "75%            NaN          NaN           NaN                  NaN   \n",
      "max            NaN          NaN  3.252902e+06                  NaN   \n",
      "\n",
      "           longitude      latitude        app_id  is_installed     is_active  \\\n",
      "count   2.896762e+06  2.896762e+06  2.747844e+06     2747844.0  2.747844e+06   \n",
      "unique           NaN           NaN           NaN           NaN           NaN   \n",
      "top              NaN           NaN           NaN           NaN           NaN   \n",
      "freq             NaN           NaN           NaN           NaN           NaN   \n",
      "mean    4.701352e+01  1.291276e+01  1.087623e+18           1.0  3.873044e-01   \n",
      "std     5.665044e+01  1.594137e+01  5.250002e+18           0.0  4.871343e-01   \n",
      "min    -1.800000e+02 -2.031000e+01 -9.218488e+18           1.0  0.000000e+00   \n",
      "25%              NaN           NaN           NaN           NaN           NaN   \n",
      "50%              NaN           NaN           NaN           NaN           NaN   \n",
      "75%              NaN           NaN           NaN           NaN           NaN   \n",
      "max     1.318700e+02  5.126000e+01  9.222488e+18           1.0  1.000000e+00   \n",
      "\n",
      "             label_id      category  \n",
      "count   119823.000000        119823  \n",
      "unique            NaN           108  \n",
      "top               NaN  Industry tag  \n",
      "freq              NaN          9771  \n",
      "mean       635.183546           NaN  \n",
      "std        247.951428           NaN  \n",
      "min         13.000000           NaN  \n",
      "25%               NaN           NaN  \n",
      "50%               NaN           NaN  \n",
      "75%               NaN           NaN  \n",
      "max       1014.000000           NaN  \n"
     ]
    },
    {
     "data": {
      "text/html": [
       "<div>\n",
       "<table border=\"1\" class=\"dataframe\">\n",
       "  <thead>\n",
       "    <tr style=\"text-align: right;\">\n",
       "      <th></th>\n",
       "      <th>Unnamed: 0</th>\n",
       "      <th>device_id</th>\n",
       "      <th>gender</th>\n",
       "      <th>age</th>\n",
       "      <th>group</th>\n",
       "      <th>phone_brand</th>\n",
       "      <th>device_model</th>\n",
       "      <th>event_id</th>\n",
       "      <th>timestamp</th>\n",
       "      <th>longitude</th>\n",
       "      <th>latitude</th>\n",
       "      <th>app_id</th>\n",
       "      <th>is_installed</th>\n",
       "      <th>is_active</th>\n",
       "      <th>label_id</th>\n",
       "      <th>category</th>\n",
       "    </tr>\n",
       "  </thead>\n",
       "  <tbody>\n",
       "    <tr>\n",
       "      <th>0</th>\n",
       "      <td>0</td>\n",
       "      <td>-8076087639492063270</td>\n",
       "      <td>M</td>\n",
       "      <td>35</td>\n",
       "      <td>M32-38</td>\n",
       "      <td>小米</td>\n",
       "      <td>MI 2</td>\n",
       "      <td>NaN</td>\n",
       "      <td>NaN</td>\n",
       "      <td>NaN</td>\n",
       "      <td>NaN</td>\n",
       "      <td>NaN</td>\n",
       "      <td>NaN</td>\n",
       "      <td>NaN</td>\n",
       "      <td>NaN</td>\n",
       "      <td>NaN</td>\n",
       "    </tr>\n",
       "    <tr>\n",
       "      <th>1</th>\n",
       "      <td>1</td>\n",
       "      <td>-2897161552818060146</td>\n",
       "      <td>M</td>\n",
       "      <td>35</td>\n",
       "      <td>M32-38</td>\n",
       "      <td>小米</td>\n",
       "      <td>MI 2</td>\n",
       "      <td>NaN</td>\n",
       "      <td>NaN</td>\n",
       "      <td>NaN</td>\n",
       "      <td>NaN</td>\n",
       "      <td>NaN</td>\n",
       "      <td>NaN</td>\n",
       "      <td>NaN</td>\n",
       "      <td>NaN</td>\n",
       "      <td>NaN</td>\n",
       "    </tr>\n",
       "    <tr>\n",
       "      <th>2</th>\n",
       "      <td>2</td>\n",
       "      <td>-8260683887967679142</td>\n",
       "      <td>M</td>\n",
       "      <td>35</td>\n",
       "      <td>M32-38</td>\n",
       "      <td>小米</td>\n",
       "      <td>MI 2</td>\n",
       "      <td>2479656.0</td>\n",
       "      <td>2016-05-01 14:23:37</td>\n",
       "      <td>0.0</td>\n",
       "      <td>0.0</td>\n",
       "      <td>4.287147e+18</td>\n",
       "      <td>1.0</td>\n",
       "      <td>0.0</td>\n",
       "      <td>NaN</td>\n",
       "      <td>NaN</td>\n",
       "    </tr>\n",
       "    <tr>\n",
       "      <th>3</th>\n",
       "      <td>3</td>\n",
       "      <td>-8260683887967679142</td>\n",
       "      <td>M</td>\n",
       "      <td>35</td>\n",
       "      <td>M32-38</td>\n",
       "      <td>小米</td>\n",
       "      <td>MI 2</td>\n",
       "      <td>2479656.0</td>\n",
       "      <td>2016-05-01 14:23:37</td>\n",
       "      <td>0.0</td>\n",
       "      <td>0.0</td>\n",
       "      <td>-4.085687e+18</td>\n",
       "      <td>1.0</td>\n",
       "      <td>0.0</td>\n",
       "      <td>NaN</td>\n",
       "      <td>NaN</td>\n",
       "    </tr>\n",
       "    <tr>\n",
       "      <th>4</th>\n",
       "      <td>4</td>\n",
       "      <td>-8260683887967679142</td>\n",
       "      <td>M</td>\n",
       "      <td>35</td>\n",
       "      <td>M32-38</td>\n",
       "      <td>小米</td>\n",
       "      <td>MI 2</td>\n",
       "      <td>2479656.0</td>\n",
       "      <td>2016-05-01 14:23:37</td>\n",
       "      <td>0.0</td>\n",
       "      <td>0.0</td>\n",
       "      <td>6.324195e+18</td>\n",
       "      <td>1.0</td>\n",
       "      <td>0.0</td>\n",
       "      <td>NaN</td>\n",
       "      <td>NaN</td>\n",
       "    </tr>\n",
       "  </tbody>\n",
       "</table>\n",
       "</div>"
      ],
      "text/plain": [
       "   Unnamed: 0            device_id gender  age   group phone_brand  \\\n",
       "0           0 -8076087639492063270      M   35  M32-38          小米   \n",
       "1           1 -2897161552818060146      M   35  M32-38          小米   \n",
       "2           2 -8260683887967679142      M   35  M32-38          小米   \n",
       "3           3 -8260683887967679142      M   35  M32-38          小米   \n",
       "4           4 -8260683887967679142      M   35  M32-38          小米   \n",
       "\n",
       "  device_model   event_id            timestamp  longitude  latitude  \\\n",
       "0         MI 2        NaN                  NaN        NaN       NaN   \n",
       "1         MI 2        NaN                  NaN        NaN       NaN   \n",
       "2         MI 2  2479656.0  2016-05-01 14:23:37        0.0       0.0   \n",
       "3         MI 2  2479656.0  2016-05-01 14:23:37        0.0       0.0   \n",
       "4         MI 2  2479656.0  2016-05-01 14:23:37        0.0       0.0   \n",
       "\n",
       "         app_id  is_installed  is_active  label_id category  \n",
       "0           NaN           NaN        NaN       NaN      NaN  \n",
       "1           NaN           NaN        NaN       NaN      NaN  \n",
       "2  4.287147e+18           1.0        0.0       NaN      NaN  \n",
       "3 -4.085687e+18           1.0        0.0       NaN      NaN  \n",
       "4  6.324195e+18           1.0        0.0       NaN      NaN  "
      ]
     },
     "execution_count": 7,
     "metadata": {},
     "output_type": "execute_result"
    }
   ],
   "source": [
    "print(data.describe(include='all'))\n",
    "data.head()"
   ]
  },
  {
   "cell_type": "code",
   "execution_count": 9,
   "metadata": {
    "collapsed": false
   },
   "outputs": [
    {
     "data": {
      "text/plain": [
       "gender\n",
       "F    35.391056\n",
       "M    34.968516\n",
       "Name: age, dtype: float64"
      ]
     },
     "execution_count": 9,
     "metadata": {},
     "output_type": "execute_result"
    }
   ],
   "source": [
    "import numpy as np\n",
    "import pandas as pd\n",
    "import statsmodels.api as sm\n",
    "import matplotlib.pyplot as plt\n",
    "from patsy import dmatrices\n",
    "from sklearn.linear_model import LogisticRegression\n",
    "from sklearn.cross_validation import train_test_split\n",
    "from sklearn import metrics\n",
    "from sklearn.cross_validation import cross_val_score\n",
    "\n",
    "data.groupby('gender')['age'].mean()\n",
    "\n"
   ]
  },
  {
   "cell_type": "code",
   "execution_count": 27,
   "metadata": {
    "collapsed": false
   },
   "outputs": [
    {
     "name": "stdout",
     "output_type": "stream",
     "text": [
      "(2913042,)\n",
      "(2913042,)\n",
      "(2913042, 1)\n",
      "['M']\n"
     ]
    }
   ],
   "source": [
    "model = LogisticRegression()\n",
    "age =  data['age']\n",
    "gender = data['gender']\n",
    "print(age.shape)\n",
    "print(gender.shape)\n",
    "age = np.reshape(age,(age.shape[0], 1))\n",
    "print(age.shape)\n",
    "\n",
    "model.fit(age, gender)\n",
    "print(model.predict(30))\n",
    "\n",
    "\n",
    "#model.fit(data['age'], data['gender'])"
   ]
  },
  {
   "cell_type": "code",
   "execution_count": 23,
   "metadata": {
    "collapsed": true
   },
   "outputs": [],
   "source": [
    "np.reshape?"
   ]
  }
 ],
 "metadata": {
  "kernelspec": {
   "display_name": "Python 3",
   "language": "python",
   "name": "python3"
  },
  "language_info": {
   "codemirror_mode": {
    "name": "ipython",
    "version": 3
   },
   "file_extension": ".py",
   "mimetype": "text/x-python",
   "name": "python",
   "nbconvert_exporter": "python",
   "pygments_lexer": "ipython3",
   "version": "3.5.1"
  }
 },
 "nbformat": 4,
 "nbformat_minor": 0
}
