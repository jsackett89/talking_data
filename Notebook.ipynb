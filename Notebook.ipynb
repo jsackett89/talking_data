{
 "cells": [
  {
   "cell_type": "code",
   "execution_count": 2,
   "metadata": {
    "collapsed": false
   },
   "outputs": [],
   "source": [
    "import glob\n",
    "import os\n",
    "import pandas as pd\n",
    "\n",
    "%matplotlib inline\n",
    "import matplotlib\n",
    "import numpy as np\n",
    "import matplotlib.pyplot as plt\n",
    "\n",
    "from collections import Counter\n"
   ]
  },
  {
   "cell_type": "code",
   "execution_count": 40,
   "metadata": {
    "collapsed": false
   },
   "outputs": [
    {
     "name": "stdout",
     "output_type": "stream",
     "text": [
      "['data/app_events.csv', 'data/app_labels.csv', 'data/events.csv', 'data/gender_age_test.csv', 'data/gender_age_train.csv', 'data/label_categories.csv', 'data/phone_brand_device_model.csv', 'data/sample_submission.csv']\n",
      "['app_events', 'app_labels', 'events', 'gender_age_test', 'gender_age_train', 'label_categories', 'phone_brand_device_model', 'sample_submission']\n",
      "Index(['device_id', 'phone_brand', 'device_model'], dtype='object')\n"
     ]
    },
    {
     "data": {
      "text/plain": [
       "dict_keys(['phone_brand_device_model', 'app_events', 'events', 'gender_age_train', 'label_categories', 'gender_age_test', 'app_labels', 'sample_submission'])"
      ]
     },
     "execution_count": 40,
     "metadata": {},
     "output_type": "execute_result"
    }
   ],
   "source": [
    "filePaths = [f for f in glob.glob(os.path.join('data', '*.csv'))]\n",
    "print(filePaths)\n",
    "# File names\n",
    "fileNames = [p.split('data/')[1].split('.csv')[0] for p in filePaths]\n",
    "print(fileNames)\n",
    "# Create tuples for dictionary comprehension\n",
    "fileKeyVal = zip(fileNames, filePaths)\n",
    "# Create dictionary of files\n",
    "fileDict = {name: pd.read_csv(file) for name, file in fileKeyVal}\n",
    "\n",
    "\n",
    "fileDict.keys()"
   ]
  },
  {
   "cell_type": "code",
   "execution_count": 56,
   "metadata": {
    "collapsed": false
   },
   "outputs": [
    {
     "name": "stdout",
     "output_type": "stream",
     "text": [
      "Index(['event_id', 'app_id', 'is_installed', 'is_active'], dtype='object')\n",
      "Index(['app_id', 'label_id'], dtype='object')\n",
      "Index(['event_id', 'device_id', 'timestamp', 'longitude', 'latitude'], dtype='object')\n",
      "Index(['device_id', 'gender', 'age', 'group'], dtype='object')\n",
      "(74645, 4)\n",
      "Index(['label_id', 'category'], dtype='object')\n",
      "Index(['device_id', 'phone_brand', 'device_model'], dtype='object')\n",
      "(187245, 3)\n",
      "Index(['app_id', 'label_id'], dtype='object')\n"
     ]
    }
   ],
   "source": [
    "app_events = fileDict.get(\"app_events\")\n",
    "print(app_events.columns)\n",
    "\n",
    "app_labels = fileDict.get(\"app_labels\")\n",
    "print(app_labels.columns)\n",
    "\n",
    "events = fileDict.get(\"events\")\n",
    "print(events.columns)\n",
    "\n",
    "ga_train = fileDict.get(\"gender_age_train\")\n",
    "print(ga_train.columns)\n",
    "print(ga_train.shape)\n",
    "#print(ga_train.describe(include='all'))\n",
    "\n",
    "label_categories = fileDict.get(\"label_categories\")\n",
    "print(label_categories.columns)\n",
    "\n",
    "pdbm = fileDict.get(\"phone_brand_device_model\")\n",
    "print(pdbm.columns)\n",
    "print(pdbm.shape)\n",
    "\n",
    "app_labels = fileDict.get(\"app_labels\")\n",
    "print(app_labels.columns)\n",
    "\n"
   ]
  },
  {
   "cell_type": "code",
   "execution_count": 42,
   "metadata": {
    "collapsed": false
   },
   "outputs": [
    {
     "data": {
      "image/png": "[encoded data removed]",
      "text/plain": [
       "<matplotlib.figure.Figure at 0x14d425128>"
      ]
     },
     "metadata": {},
     "output_type": "display_data"
    },
    {
     "data": {
      "image/png": "[encoded data removed]",
      "text/plain": [
       "<matplotlib.figure.Figure at 0x14d412c88>"
      ]
     },
     "metadata": {},
     "output_type": "display_data"
    }
   ],
   "source": [
    "plt.hist(ga_train[\"age\"], bins=50, range=[0,100])\n",
    "plt.xlabel('Age')\n",
    "plt.ylabel('Count')\n",
    "plt.show()\n",
    "\n",
    "labels, values = zip(*Counter(ga_train[\"group\"]).items())\n",
    "counts = pd.DataFrame({'labels' : labels, 'values' : values})\n",
    "counts = counts.sort_values('labels')\n",
    "indexes = np.arange(len(counts))\n",
    "width = .5\n",
    "\n",
    "plt.figure(figsize=(20,10))\n",
    "plt.bar(indexes, counts['values'], width, color = ['b', 'g', 'y', 'k', 'r', 'orange', 'purple', 'pink', 'white', 'gray', 'yellow', 'brown'])\n",
    "plt.xticks(indexes + width * 0.5, counts['labels'])\n",
    "plt.xlabel('Gender/Age Group')\n",
    "plt.ylabel('Count')\n",
    "plt.show()"
   ]
  },
  {
   "cell_type": "code",
   "execution_count": 57,
   "metadata": {
    "collapsed": false
   },
   "outputs": [
    {
     "name": "stdout",
     "output_type": "stream",
     "text": [
      "Index(['device_id', 'gender', 'age', 'group', 'phone_brand', 'device_model'], dtype='object')\n",
      "(74839, 6)\n",
      "             device_id gender  age   group phone_brand device_model\n",
      "0 -8076087639492063270      M   35  M32-38          小米         MI 2\n",
      "1 -2897161552818060146      M   35  M32-38          小米         MI 2\n",
      "2 -8260683887967679142      M   35  M32-38          小米         MI 2\n",
      "3 -4938849341048082022      M   30  M29-31          小米       红米note\n",
      "4   245133531816851882      M   30  M29-31          小米         MI 3\n"
     ]
    }
   ],
   "source": [
    "ga_train_with_pdbm = pd.merge(ga_train, pdbm, on='device_id', how='left')\n",
    "print(ga_train_with_pdbm.columns)\n",
    "print(ga_train_with_pdbm.shape)\n",
    "print(ga_train_with_pdbm.head())"
   ]
  },
  {
   "cell_type": "code",
   "execution_count": 59,
   "metadata": {
    "collapsed": false
   },
   "outputs": [
    {
     "name": "stdout",
     "output_type": "stream",
     "text": [
      "Index(['device_id', 'gender', 'age', 'group', 'phone_brand', 'device_model',\n",
      "       'event_id', 'timestamp', 'longitude', 'latitude'],\n",
      "      dtype='object')\n",
      "(1271913, 10)\n",
      "          device_id           age      event_id     longitude      latitude\n",
      "count  1.271913e+06  1.271913e+06  1.220474e+06  1.220474e+06  1.220474e+06\n",
      "mean  -2.963497e+16  3.338748e+01  1.626750e+06  7.841065e+01  2.183423e+01\n",
      "std    5.320773e+18  9.755179e+00  9.396839e+05  5.381275e+01  1.564637e+01\n",
      "min   -9.223067e+18  1.000000e+00  1.000000e+00 -1.800000e+02 -3.380000e+01\n",
      "25%   -4.664097e+18  2.600000e+01           NaN           NaN           NaN\n",
      "50%   -1.229633e+17  3.100000e+01           NaN           NaN           NaN\n",
      "75%    4.631837e+18  3.900000e+01           NaN           NaN           NaN\n",
      "max    9.222849e+18  9.600000e+01  3.252948e+06  1.511800e+02  5.364000e+01\n"
     ]
    },
    {
     "name": "stderr",
     "output_type": "stream",
     "text": [
      "/Users/brad/anaconda/lib/python3.5/site-packages/numpy/lib/function_base.py:3823: RuntimeWarning: Invalid value encountered in percentile\n",
      "  RuntimeWarning)\n"
     ]
    }
   ],
   "source": [
    "ga_train_with_pdbm_and_events = pd.merge(ga_train_with_pdbm, events, on='device_id', how='left')\n",
    "print(ga_train_with_pdbm_and_events.columns)\n",
    "print(ga_train_with_pdbm_and_events.shape)\n",
    "print(ga_train_with_pdbm_and_events.describe())"
   ]
  },
  {
   "cell_type": "code",
   "execution_count": 62,
   "metadata": {
    "collapsed": false
   },
   "outputs": [
    {
     "name": "stdout",
     "output_type": "stream",
     "text": [
      "Index(['device_id', 'gender', 'age', 'group', 'phone_brand', 'device_model',\n",
      "       'event_id', 'timestamp', 'longitude', 'latitude', 'app_id',\n",
      "       'is_installed', 'is_active'],\n",
      "      dtype='object')\n",
      "(12987131, 13)\n"
     ]
    },
    {
     "name": "stderr",
     "output_type": "stream",
     "text": [
      "/Users/brad/anaconda/lib/python3.5/site-packages/numpy/lib/function_base.py:3823: RuntimeWarning: Invalid value encountered in percentile\n",
      "  RuntimeWarning)\n"
     ]
    },
    {
     "name": "stdout",
     "output_type": "stream",
     "text": [
      "           device_id    gender           age     group phone_brand  \\\n",
      "count   1.298713e+07  12987131  1.298713e+07  12987131    12987131   \n",
      "unique           NaN         2           NaN        12         120   \n",
      "top              NaN         M           NaN    M32-38          华为   \n",
      "freq             NaN   9515799           NaN   2447981     4115516   \n",
      "mean    1.020054e+17       NaN  3.337944e+01       NaN         NaN   \n",
      "std     5.294136e+18       NaN  9.435700e+00       NaN         NaN   \n",
      "min    -9.223067e+18       NaN  1.000000e+00       NaN         NaN   \n",
      "25%    -4.386679e+18       NaN  2.700000e+01       NaN         NaN   \n",
      "50%     8.918101e+16       NaN  3.100000e+01       NaN         NaN   \n",
      "75%     4.691463e+18       NaN  3.900000e+01       NaN         NaN   \n",
      "max     9.222849e+18       NaN  9.600000e+01       NaN         NaN   \n",
      "\n",
      "       device_model      event_id            timestamp     longitude  \\\n",
      "count      12987131  1.293569e+07             12935692  1.293569e+07   \n",
      "unique         1438           NaN               497663           NaN   \n",
      "top             荣耀6           NaN  2016-05-02 00:46:51           NaN   \n",
      "freq         793104           NaN                  636           NaN   \n",
      "mean            NaN  1.626328e+06                  NaN  4.841044e+01   \n",
      "std             NaN  9.398703e+05                  NaN  5.690868e+01   \n",
      "min             NaN  1.000000e+00                  NaN -1.800000e+02   \n",
      "25%             NaN           NaN                  NaN           NaN   \n",
      "50%             NaN           NaN                  NaN           NaN   \n",
      "75%             NaN           NaN                  NaN           NaN   \n",
      "max             NaN  3.252948e+06                  NaN  1.511800e+02   \n",
      "\n",
      "            latitude        app_id  is_installed     is_active  \n",
      "count   1.293569e+07  1.227345e+07    12273452.0  1.227345e+07  \n",
      "unique           NaN           NaN           NaN           NaN  \n",
      "top              NaN           NaN           NaN           NaN  \n",
      "freq             NaN           NaN           NaN           NaN  \n",
      "mean    1.335456e+01  1.193305e+18           1.0  3.913085e-01  \n",
      "std     1.607607e+01  5.364721e+18           0.0  4.880432e-01  \n",
      "min    -3.380000e+01 -9.221157e+18           1.0  0.000000e+00  \n",
      "25%              NaN           NaN           NaN           NaN  \n",
      "50%              NaN           NaN           NaN           NaN  \n",
      "75%              NaN           NaN           NaN           NaN  \n",
      "max     5.364000e+01  9.222488e+18           1.0  1.000000e+00  \n"
     ]
    }
   ],
   "source": [
    "ga_train_with_pdbm_and_events_and_app_events = pd.merge(ga_train_with_pdbm_and_events, app_events, on='event_id', how='left')\n",
    "print(ga_train_with_pdbm_and_events_and_app_events.columns)\n",
    "print(ga_train_with_pdbm_and_events_and_app_events.shape)\n",
    "print(ga_train_with_pdbm_and_events_and_app_events.describe(include='all'))"
   ]
  },
  {
   "cell_type": "code",
   "execution_count": 63,
   "metadata": {
    "collapsed": false,
    "scrolled": true
   },
   "outputs": [
    {
     "name": "stdout",
     "output_type": "stream",
     "text": [
      "Index(['device_id', 'gender', 'age', 'group', 'phone_brand', 'device_model',\n",
      "       'event_id', 'timestamp', 'longitude', 'latitude', 'app_id',\n",
      "       'is_installed', 'is_active', 'label_id'],\n",
      "      dtype='object')\n",
      "(13447651, 14)\n"
     ]
    },
    {
     "name": "stderr",
     "output_type": "stream",
     "text": [
      "/Users/brad/anaconda/lib/python3.5/site-packages/numpy/lib/function_base.py:3823: RuntimeWarning: Invalid value encountered in percentile\n",
      "  RuntimeWarning)\n"
     ]
    },
    {
     "name": "stdout",
     "output_type": "stream",
     "text": [
      "           device_id    gender           age     group phone_brand  \\\n",
      "count   1.344765e+07  13447651  1.344765e+07  13447651    13447651   \n",
      "unique           NaN         2           NaN        12         120   \n",
      "top              NaN         M           NaN    M32-38          华为   \n",
      "freq             NaN   9866315           NaN   2544607     4283903   \n",
      "mean    1.065641e+17       NaN  3.350085e+01       NaN         NaN   \n",
      "std     5.291652e+18       NaN  9.473287e+00       NaN         NaN   \n",
      "min    -9.223067e+18       NaN  1.000000e+00       NaN         NaN   \n",
      "25%    -4.355594e+18       NaN  2.700000e+01       NaN         NaN   \n",
      "50%     9.686680e+16       NaN  3.200000e+01       NaN         NaN   \n",
      "75%     4.699057e+18       NaN  3.900000e+01       NaN         NaN   \n",
      "max     9.222849e+18       NaN  9.600000e+01       NaN         NaN   \n",
      "\n",
      "       device_model      event_id            timestamp     longitude  \\\n",
      "count      13447651  1.339621e+07             13396212  1.339621e+07   \n",
      "unique         1438           NaN               497663           NaN   \n",
      "top             荣耀6           NaN  2016-05-02 00:46:51           NaN   \n",
      "freq         819676           NaN                  660           NaN   \n",
      "mean            NaN  1.626366e+06                  NaN  4.812278e+01   \n",
      "std             NaN  9.398948e+05                  NaN  5.686359e+01   \n",
      "min             NaN  1.000000e+00                  NaN -1.800000e+02   \n",
      "25%             NaN           NaN                  NaN           NaN   \n",
      "50%             NaN           NaN                  NaN           NaN   \n",
      "75%             NaN           NaN                  NaN           NaN   \n",
      "max             NaN  3.252948e+06                  NaN  1.511800e+02   \n",
      "\n",
      "            latitude        app_id  is_installed     is_active       label_id  \n",
      "count   1.339621e+07  1.273397e+07    12733972.0  1.273397e+07  537325.000000  \n",
      "unique           NaN           NaN           NaN           NaN            NaN  \n",
      "top              NaN           NaN           NaN           NaN            NaN  \n",
      "freq             NaN           NaN           NaN           NaN            NaN  \n",
      "mean    1.327309e+01  1.152861e+18           1.0  3.916393e-01     636.147762  \n",
      "std     1.605621e+01  5.272577e+18           0.0  4.881168e-01     251.553683  \n",
      "min    -3.380000e+01 -9.221157e+18           1.0  0.000000e+00       8.000000  \n",
      "25%              NaN           NaN           NaN           NaN            NaN  \n",
      "50%              NaN           NaN           NaN           NaN            NaN  \n",
      "75%              NaN           NaN           NaN           NaN            NaN  \n",
      "max     5.364000e+01  9.222488e+18           1.0  1.000000e+00    1016.000000  \n"
     ]
    }
   ],
   "source": [
    "ga_train_with_pdbm_and_events_and_app_events_and_labels = pd.merge(ga_train_with_pdbm_and_events_and_app_events, app_labels, on='app_id', how='left')\n",
    "print(ga_train_with_pdbm_and_events_and_app_events_and_labels.columns)\n",
    "print(ga_train_with_pdbm_and_events_and_app_events_and_labels.shape)\n",
    "print(ga_train_with_pdbm_and_events_and_app_events_and_labels.describe(include='all'))"
   ]
  },
  {
   "cell_type": "code",
   "execution_count": 65,
   "metadata": {
    "collapsed": false
   },
   "outputs": [
    {
     "name": "stdout",
     "output_type": "stream",
     "text": [
      "Index(['device_id', 'gender', 'age', 'group', 'phone_brand', 'device_model',\n",
      "       'event_id', 'timestamp', 'longitude', 'latitude', 'app_id',\n",
      "       'is_installed', 'is_active', 'label_id', 'category'],\n",
      "      dtype='object')\n",
      "(13447651, 15)\n"
     ]
    },
    {
     "name": "stderr",
     "output_type": "stream",
     "text": [
      "/Users/brad/anaconda/lib/python3.5/site-packages/numpy/lib/function_base.py:3823: RuntimeWarning: Invalid value encountered in percentile\n",
      "  RuntimeWarning)\n"
     ]
    },
    {
     "name": "stdout",
     "output_type": "stream",
     "text": [
      "           device_id    gender           age     group phone_brand  \\\n",
      "count   1.344765e+07  13447651  1.344765e+07  13447651    13447651   \n",
      "unique           NaN         2           NaN        12         120   \n",
      "top              NaN         M           NaN    M32-38          华为   \n",
      "freq             NaN   9866315           NaN   2544607     4283903   \n",
      "mean    1.065641e+17       NaN  3.350085e+01       NaN         NaN   \n",
      "std     5.291652e+18       NaN  9.473287e+00       NaN         NaN   \n",
      "min    -9.223067e+18       NaN  1.000000e+00       NaN         NaN   \n",
      "25%    -4.355594e+18       NaN  2.700000e+01       NaN         NaN   \n",
      "50%     9.686680e+16       NaN  3.200000e+01       NaN         NaN   \n",
      "75%     4.699057e+18       NaN  3.900000e+01       NaN         NaN   \n",
      "max     9.222849e+18       NaN  9.600000e+01       NaN         NaN   \n",
      "\n",
      "       device_model      event_id            timestamp     longitude  \\\n",
      "count      13447651  1.339621e+07             13396212  1.339621e+07   \n",
      "unique         1438           NaN               497663           NaN   \n",
      "top             荣耀6           NaN  2016-05-02 00:46:51           NaN   \n",
      "freq         819676           NaN                  660           NaN   \n",
      "mean            NaN  1.626366e+06                  NaN  4.812278e+01   \n",
      "std             NaN  9.398948e+05                  NaN  5.686359e+01   \n",
      "min             NaN  1.000000e+00                  NaN -1.800000e+02   \n",
      "25%             NaN           NaN                  NaN           NaN   \n",
      "50%             NaN           NaN                  NaN           NaN   \n",
      "75%             NaN           NaN                  NaN           NaN   \n",
      "max             NaN  3.252948e+06                  NaN  1.511800e+02   \n",
      "\n",
      "            latitude        app_id  is_installed     is_active       label_id  \\\n",
      "count   1.339621e+07  1.273397e+07    12733972.0  1.273397e+07  537325.000000   \n",
      "unique           NaN           NaN           NaN           NaN            NaN   \n",
      "top              NaN           NaN           NaN           NaN            NaN   \n",
      "freq             NaN           NaN           NaN           NaN            NaN   \n",
      "mean    1.327309e+01  1.152861e+18           1.0  3.916393e-01     636.147762   \n",
      "std     1.605621e+01  5.272577e+18           0.0  4.881168e-01     251.553683   \n",
      "min    -3.380000e+01 -9.221157e+18           1.0  0.000000e+00       8.000000   \n",
      "25%              NaN           NaN           NaN           NaN            NaN   \n",
      "50%              NaN           NaN           NaN           NaN            NaN   \n",
      "75%              NaN           NaN           NaN           NaN            NaN   \n",
      "max     5.364000e+01  9.222488e+18           1.0  1.000000e+00    1016.000000   \n",
      "\n",
      "            category  \n",
      "count         537325  \n",
      "unique           144  \n",
      "top     Industry tag  \n",
      "freq           44648  \n",
      "mean             NaN  \n",
      "std              NaN  \n",
      "min              NaN  \n",
      "25%              NaN  \n",
      "50%              NaN  \n",
      "75%              NaN  \n",
      "max              NaN  \n"
     ]
    }
   ],
   "source": [
    "ga_train_with_pdbm_and_events_and_app_events_and_labels_and_categories = pd.merge(ga_train_with_pdbm_and_events_and_app_events_and_labels, label_categories, on='label_id', how='left')\n",
    "print(ga_train_with_pdbm_and_events_and_app_events_and_labels_and_categories.columns)\n",
    "print(ga_train_with_pdbm_and_events_and_app_events_and_labels_and_categories.shape)\n",
    "print(ga_train_with_pdbm_and_events_and_app_events_and_labels_and_categories.describe(include='all'))"
   ]
  },
  {
   "cell_type": "code",
   "execution_count": 66,
   "metadata": {
    "collapsed": false
   },
   "outputs": [],
   "source": [
    "ga_train_with_pdbm_and_events_and_app_events_and_labels_and_categories.to_csv('all_events_with_metadata.csv')\n"
   ]
  },
  {
   "cell_type": "code",
   "execution_count": 67,
   "metadata": {
    "collapsed": false
   },
   "outputs": [
    {
     "name": "stdout",
     "output_type": "stream",
     "text": [
      "<class 'pandas.core.frame.DataFrame'>\n",
      "Int64Index: 13447651 entries, 0 to 13447650\n",
      "Data columns (total 15 columns):\n",
      "device_id       int64\n",
      "gender          object\n",
      "age             int64\n",
      "group           object\n",
      "phone_brand     object\n",
      "device_model    object\n",
      "event_id        float64\n",
      "timestamp       object\n",
      "longitude       float64\n",
      "latitude        float64\n",
      "app_id          float64\n",
      "is_installed    float64\n",
      "is_active       float64\n",
      "label_id        float64\n",
      "category        object\n",
      "dtypes: float64(7), int64(2), object(6)\n",
      "memory usage: 1.6+ GB\n"
     ]
    }
   ],
   "source": [
    "ga_train_with_pdbm_and_events_and_app_events_and_labels_and_categories.info()"
   ]
  },
  {
   "cell_type": "code",
   "execution_count": null,
   "metadata": {
    "collapsed": true
   },
   "outputs": [],
   "source": [
    "print(ga_train_with_pdbm_and_events_and_app_events_and_labels_and_categories.describe(include='all'))"
   ]
  },
  {
   "cell_type": "code",
   "execution_count": 52,
   "metadata": {
    "collapsed": false
   },
   "outputs": [
    {
     "data": {
      "text/html": [
       "<div>\n",
       "<table border=\"1\" class=\"dataframe\">\n",
       "  <thead>\n",
       "    <tr style=\"text-align: right;\">\n",
       "      <th></th>\n",
       "      <th>event_id</th>\n",
       "      <th>device_id</th>\n",
       "      <th>timestamp</th>\n",
       "      <th>longitude</th>\n",
       "      <th>latitude</th>\n",
       "      <th>phone_brand</th>\n",
       "      <th>device_model</th>\n",
       "      <th>gender</th>\n",
       "      <th>age</th>\n",
       "      <th>group</th>\n",
       "      <th>app_id</th>\n",
       "      <th>is_installed</th>\n",
       "      <th>is_active</th>\n",
       "      <th>label_id</th>\n",
       "      <th>category</th>\n",
       "    </tr>\n",
       "  </thead>\n",
       "  <tbody>\n",
       "    <tr>\n",
       "      <th>0</th>\n",
       "      <td>1</td>\n",
       "      <td>29182687948017175</td>\n",
       "      <td>2016-05-01 00:55:25</td>\n",
       "      <td>121.38</td>\n",
       "      <td>31.24</td>\n",
       "      <td>小米</td>\n",
       "      <td>红米note</td>\n",
       "      <td>M</td>\n",
       "      <td>46.0</td>\n",
       "      <td>M39+</td>\n",
       "      <td>NaN</td>\n",
       "      <td>NaN</td>\n",
       "      <td>NaN</td>\n",
       "      <td>NaN</td>\n",
       "      <td>NaN</td>\n",
       "    </tr>\n",
       "    <tr>\n",
       "      <th>1</th>\n",
       "      <td>2</td>\n",
       "      <td>-6401643145415154744</td>\n",
       "      <td>2016-05-01 00:54:12</td>\n",
       "      <td>103.65</td>\n",
       "      <td>30.97</td>\n",
       "      <td>三星</td>\n",
       "      <td>Galaxy Grand Prime</td>\n",
       "      <td>NaN</td>\n",
       "      <td>NaN</td>\n",
       "      <td>NaN</td>\n",
       "      <td>5.927333e+18</td>\n",
       "      <td>1.0</td>\n",
       "      <td>1.0</td>\n",
       "      <td>NaN</td>\n",
       "      <td>NaN</td>\n",
       "    </tr>\n",
       "    <tr>\n",
       "      <th>2</th>\n",
       "      <td>2</td>\n",
       "      <td>-6401643145415154744</td>\n",
       "      <td>2016-05-01 00:54:12</td>\n",
       "      <td>103.65</td>\n",
       "      <td>30.97</td>\n",
       "      <td>三星</td>\n",
       "      <td>Galaxy Grand Prime</td>\n",
       "      <td>NaN</td>\n",
       "      <td>NaN</td>\n",
       "      <td>NaN</td>\n",
       "      <td>-5.720079e+18</td>\n",
       "      <td>1.0</td>\n",
       "      <td>0.0</td>\n",
       "      <td>NaN</td>\n",
       "      <td>NaN</td>\n",
       "    </tr>\n",
       "    <tr>\n",
       "      <th>3</th>\n",
       "      <td>2</td>\n",
       "      <td>-6401643145415154744</td>\n",
       "      <td>2016-05-01 00:54:12</td>\n",
       "      <td>103.65</td>\n",
       "      <td>30.97</td>\n",
       "      <td>三星</td>\n",
       "      <td>Galaxy Grand Prime</td>\n",
       "      <td>NaN</td>\n",
       "      <td>NaN</td>\n",
       "      <td>NaN</td>\n",
       "      <td>-1.633888e+18</td>\n",
       "      <td>1.0</td>\n",
       "      <td>0.0</td>\n",
       "      <td>NaN</td>\n",
       "      <td>NaN</td>\n",
       "    </tr>\n",
       "    <tr>\n",
       "      <th>4</th>\n",
       "      <td>2</td>\n",
       "      <td>-6401643145415154744</td>\n",
       "      <td>2016-05-01 00:54:12</td>\n",
       "      <td>103.65</td>\n",
       "      <td>30.97</td>\n",
       "      <td>三星</td>\n",
       "      <td>Galaxy Grand Prime</td>\n",
       "      <td>NaN</td>\n",
       "      <td>NaN</td>\n",
       "      <td>NaN</td>\n",
       "      <td>-6.531843e+17</td>\n",
       "      <td>1.0</td>\n",
       "      <td>1.0</td>\n",
       "      <td>NaN</td>\n",
       "      <td>NaN</td>\n",
       "    </tr>\n",
       "  </tbody>\n",
       "</table>\n",
       "</div>"
      ],
      "text/plain": [
       "   event_id            device_id            timestamp  longitude  latitude  \\\n",
       "0         1    29182687948017175  2016-05-01 00:55:25     121.38     31.24   \n",
       "1         2 -6401643145415154744  2016-05-01 00:54:12     103.65     30.97   \n",
       "2         2 -6401643145415154744  2016-05-01 00:54:12     103.65     30.97   \n",
       "3         2 -6401643145415154744  2016-05-01 00:54:12     103.65     30.97   \n",
       "4         2 -6401643145415154744  2016-05-01 00:54:12     103.65     30.97   \n",
       "\n",
       "  phone_brand        device_model gender   age group        app_id  \\\n",
       "0          小米              红米note      M  46.0  M39+           NaN   \n",
       "1          三星  Galaxy Grand Prime    NaN   NaN   NaN  5.927333e+18   \n",
       "2          三星  Galaxy Grand Prime    NaN   NaN   NaN -5.720079e+18   \n",
       "3          三星  Galaxy Grand Prime    NaN   NaN   NaN -1.633888e+18   \n",
       "4          三星  Galaxy Grand Prime    NaN   NaN   NaN -6.531843e+17   \n",
       "\n",
       "   is_installed  is_active  label_id category  \n",
       "0           NaN        NaN       NaN      NaN  \n",
       "1           1.0        1.0       NaN      NaN  \n",
       "2           1.0        0.0       NaN      NaN  \n",
       "3           1.0        0.0       NaN      NaN  \n",
       "4           1.0        1.0       NaN      NaN  "
      ]
     },
     "execution_count": 52,
     "metadata": {},
     "output_type": "execute_result"
    }
   ],
   "source": [
    "ga_train_with_pdbm_and_events_and_app_events_and_labels_and_categories.head()"
   ]
  },
  {
   "cell_type": "code",
   "execution_count": 55,
   "metadata": {
    "collapsed": false
   },
   "outputs": [
    {
     "data": {
      "text/plain": [
       "device_id    0\n",
       "gender       0\n",
       "age          0\n",
       "group        0\n",
       "dtype: int64"
      ]
     },
     "execution_count": 55,
     "metadata": {},
     "output_type": "execute_result"
    }
   ],
   "source": [
    "ga_train.describe()\n",
    "ga_train.isnull().sum()"
   ]
  }
 ],
 "metadata": {
  "kernelspec": {
   "display_name": "Python 3",
   "language": "python",
   "name": "python3"
  },
  "language_info": {
   "codemirror_mode": {
    "name": "ipython",
    "version": 3
   },
   "file_extension": ".py",
   "mimetype": "text/x-python",
   "name": "python",
   "nbconvert_exporter": "python",
   "pygments_lexer": "ipython3",
   "version": "3.5.1"
  }
 },
 "nbformat": 4,
 "nbformat_minor": 0
}
